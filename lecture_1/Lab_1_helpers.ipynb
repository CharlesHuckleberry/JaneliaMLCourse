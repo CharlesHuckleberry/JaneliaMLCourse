{
 "cells": [
  {
   "cell_type": "code",
   "execution_count": 1,
   "metadata": {
    "collapsed": true
   },
   "outputs": [],
   "source": [
    "# imports \n",
    "%matplotlib inline\n",
    "\n",
    "from IPython.display import YouTubeVideo\n",
    "from IPython.display import Math\n",
    "\n",
    "import sklearn\n",
    "from sklearn import datasets, linear_model\n",
    "from sklearn.linear_model import LinearRegression\n",
    "\n",
    "import numpy as np\n",
    "import numpy.random as rng\n",
    "\n",
    "import matplotlib\n",
    "import matplotlib.pyplot as plt\n",
    "\n",
    "from sklearn.datasets import fetch_20newsgroups"
   ]
  },
  {
   "cell_type": "code",
   "execution_count": 2,
   "metadata": {},
   "outputs": [
    {
     "name": "stdout",
     "output_type": "stream",
     "text": [
      "Diabetes dataset\n",
      "================\n",
      "\n",
      "Notes\n",
      "-----\n",
      "\n",
      "Ten baseline variables, age, sex, body mass index, average blood\n",
      "pressure, and six blood serum measurements were obtained for each of n =\n",
      "442 diabetes patients, as well as the response of interest, a\n",
      "quantitative measure of disease progression one year after baseline.\n",
      "\n",
      "Data Set Characteristics:\n",
      "\n",
      "  :Number of Instances: 442\n",
      "\n",
      "  :Number of Attributes: First 10 columns are numeric predictive values\n",
      "\n",
      "  :Target: Column 11 is a quantitative measure of disease progression one year after baseline\n",
      "\n",
      "  :Attributes:\n",
      "    :Age:\n",
      "    :Sex:\n",
      "    :Body mass index:\n",
      "    :Average blood pressure:\n",
      "    :S1:\n",
      "    :S2:\n",
      "    :S3:\n",
      "    :S4:\n",
      "    :S5:\n",
      "    :S6:\n",
      "\n",
      "Note: Each of these 10 feature variables have been mean centered and scaled by the standard deviation times `n_samples` (i.e. the sum of squares of each column totals 1).\n",
      "\n",
      "Source URL:\n",
      "http://www4.stat.ncsu.edu/~boos/var.select/diabetes.html\n",
      "\n",
      "For more information see:\n",
      "Bradley Efron, Trevor Hastie, Iain Johnstone and Robert Tibshirani (2004) \"Least Angle Regression,\" Annals of Statistics (with discussion), 407-499.\n",
      "(http://web.stanford.edu/~hastie/Papers/LARS/LeastAngle_2002.pdf)\n",
      "\n"
     ]
    }
   ],
   "source": [
    "# diabetes_data\n",
    "diabetes_data = datasets.load_diabetes()\n",
    "print(diabetes_data.DESCR)"
   ]
  },
  {
   "cell_type": "markdown",
   "metadata": {},
   "source": [
    "## Generating random data"
   ]
  },
  {
   "cell_type": "code",
   "execution_count": 3,
   "metadata": {},
   "outputs": [
    {
     "data": {
      "image/png": "[encoded data removed]",
      "text/plain": [
       "<matplotlib.figure.Figure at 0x10d4bb828>"
      ]
     },
     "metadata": {},
     "output_type": "display_data"
    }
   ],
   "source": [
    "# get 1000x2 random samples from a normal (gaussian) distribution\n",
    "# These have mean = 0, and variance = 1\n",
    "x_normal = rng.randn(1000,2) \n",
    "\n",
    "# You can change the variance with multiplication\n",
    "# now, the first column has variance 2\n",
    "x_normal[:,0] = x_normal[:,0] * 2\n",
    "\n",
    "# You can change the mean with addition\n",
    "# now, the second column as mean 5\n",
    "x_normal[:,1] = x_normal[:,1] + 5\n",
    "\n",
    "# lets plot a histogram of both columns\n",
    "# notice that it is smart about separating the two colums into different histograms\n",
    "plt.hist( x_normal, bins=30 );"
   ]
  },
  {
   "cell_type": "markdown",
   "metadata": {},
   "source": [
    "# Try another distribution\n",
    "Look at [the documentation](https://docs.scipy.org/doc/numpy-1.14.0/reference/routines.random.html) for numpy and try generating random data from a different distribution.\n",
    "* What are the parameters of the distribution you chose?"
   ]
  },
  {
   "cell_type": "markdown",
   "metadata": {},
   "source": [
    "# Matrix\n",
    "\n",
    "## Build a matrix"
   ]
  },
  {
   "cell_type": "code",
   "execution_count": 4,
   "metadata": {},
   "outputs": [
    {
     "name": "stdout",
     "output_type": "stream",
     "text": [
      "[[2, 3], [4, 5]]\n",
      " \n",
      "[[2 3]\n",
      " [4 5]]\n",
      " \n",
      "[[ -0.5]\n",
      " [ 10. ]]\n"
     ]
    }
   ],
   "source": [
    "a_list = [2, 3]\n",
    "another_list = [4, 5]\n",
    "a_list_of_lists = [a_list, another_list]\n",
    "print( a_list_of_lists )\n",
    "print( ' ' )\n",
    "\n",
    "a_matrix = np.array(a_list_of_lists)\n",
    "print( a_matrix )\n",
    "print( ' ' )\n",
    "\n",
    "a_vector = np.array( [[-0.5], [10]]) # write it like this so it's a column vector\n",
    "print( a_vector )"
   ]
  },
  {
   "cell_type": "markdown",
   "metadata": {},
   "source": [
    "## Matrix-vector multiply"
   ]
  },
  {
   "cell_type": "code",
   "execution_count": 5,
   "metadata": {},
   "outputs": [
    {
     "name": "stdout",
     "output_type": "stream",
     "text": [
      "[[ 29.]\n",
      " [ 48.]]\n",
      " \n",
      "[[ 29.]\n",
      " [ 48.]]\n"
     ]
    }
   ],
   "source": [
    "M_times_v = np.matmul( a_matrix, a_vector )\n",
    "print( M_times_v )\n",
    "print( ' ' )\n",
    "\n",
    "# Another way to write this - see that the result is the same\n",
    "print( a_matrix @ a_vector ) "
   ]
  },
  {
   "cell_type": "markdown",
   "metadata": {},
   "source": [
    "# Don't ever solve a linear system with an inverse matrix\n",
    "* Seriously, you promised\n",
    "\n",
    "The code below solves a linear system in two different ways, first by computing the matrix inverse then multiplying.  Then using a smart way `np.linalg.solve`) "
   ]
  },
  {
   "cell_type": "code",
   "execution_count": 13,
   "metadata": {},
   "outputs": [
    {
     "name": "stdout",
     "output_type": "stream",
     "text": [
      "it took 6.21192193031311 s the slow way\n",
      "it took 1.9188358783721924 s the fast way\n",
      "are the results different? : False\n"
     ]
    }
   ],
   "source": [
    "import time\n",
    "\n",
    "# Try making it bigger than 2000, if you dare \n",
    "# (maybe stay under 10k)\n",
    "\n",
    "medium_mtx = np.array( rng.rand( 4000, 4000 ) )\n",
    "medium_vec = np.array( rng.rand( 4000, 1 ) )\n",
    "\n",
    "# Solve by computing the matrix inverse, then multiplying\n",
    "# See how long it takes\n",
    "t0 = time.time()\n",
    "slow_result = np.linalg.inv( medium_mtx ) @ medium_vec\n",
    "t1 = time.time()\n",
    "print( 'it took {} s the slow way'.format( t1-t0 ))\n",
    "\n",
    "# Solve in a smart way\n",
    "# See how long it takes\n",
    "t0_f = time.time()\n",
    "fast_result = np.linalg.solve( medium_mtx, medium_vec )\n",
    "t1_f = time.time()\n",
    "print( 'it took {} s the fast way'.format( t1_f - t0_f ))\n",
    "\n",
    "# Check that the results are the same\n",
    "# Subtract the results and see if any of the elements are bigger than a tiny number\n",
    "print( 'are the results different? : {}'.format( np.any( ( slow_result - fast_result ) > 1e-6 )))"
   ]
  },
  {
   "cell_type": "markdown",
   "metadata": {},
   "source": [
    "## Bonus\n",
    "\n",
    "Learn about [Toeplitz](https://en.wikipedia.org/wiki/Toeplitz_matrix) matrices. Notices there's a [special way to solve them](https://docs.scipy.org/doc/scipy/reference/generated/scipy.linalg.solve_toeplitz.html#scipy.linalg.solve_toeplitz).  Try it - see how the speed compares to solving the random matrix above"
   ]
  },
  {
   "cell_type": "code",
   "execution_count": null,
   "metadata": {
    "collapsed": true
   },
   "outputs": [],
   "source": []
  }
 ],
 "metadata": {
  "kernelspec": {
   "display_name": "Python [default]",
   "language": "python",
   "name": "python3"
  },
  "language_info": {
   "codemirror_mode": {
    "name": "ipython",
    "version": 3
   },
   "file_extension": ".py",
   "mimetype": "text/x-python",
   "name": "python",
   "nbconvert_exporter": "python",
   "pygments_lexer": "ipython3",
   "version": "3.6.2"
  }
 },
 "nbformat": 4,
 "nbformat_minor": 2
}
