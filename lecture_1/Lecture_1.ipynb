{
 "cells": [
  {
   "cell_type": "code",
   "execution_count": 1,
   "metadata": {
    "collapsed": true,
    "slideshow": {
     "slide_type": "skip"
    }
   },
   "outputs": [],
   "source": [
    "# imports \n",
    "\n",
    "%matplotlib inline\n",
    "\n",
    "from IPython.display import YouTubeVideo\n",
    "from IPython.display import Math\n",
    "\n",
    "import sklearn\n",
    "from sklearn import datasets, linear_model\n",
    "from sklearn.linear_model import LinearRegression\n",
    "\n",
    "import numpy as np\n",
    "import numpy.random as rng\n",
    "\n",
    "import matplotlib\n",
    "import matplotlib.pyplot as plt\n",
    "\n",
    "\n",
    "#Math(r'F(k) = \\int_{-\\infty}^{\\infty} f(x) e^{2\\pi i k} dx')\n",
    "\n",
    "from sklearn.datasets import fetch_20newsgroups\n",
    "import seaborn as sns; sns.set()\n"
   ]
  },
  {
   "cell_type": "code",
   "execution_count": 2,
   "metadata": {
    "collapsed": true,
    "slideshow": {
     "slide_type": "skip"
    }
   },
   "outputs": [],
   "source": [
    "rng.seed(42)\n",
    "diabetes_data = datasets.load_diabetes()\n",
    "N = len(diabetes_data.target)\n",
    "i = rng.randint(0,N-1,15)\n",
    "X = diabetes_data.data[i,np.newaxis,2]\n",
    "y = diabetes_data.target[i]\n",
    "\n",
    "itest = np.setdiff1d( rng.randint(0,N-1,103), i)\n",
    "Xtest = diabetes_data.data[itest,np.newaxis,2]\n",
    "ytest = diabetes_data.target[itest]"
   ]
  },
  {
   "cell_type": "code",
   "execution_count": 3,
   "metadata": {
    "slideshow": {
     "slide_type": "skip"
    }
   },
   "outputs": [
    {
     "data": {
      "text/plain": [
       "['alt.atheism',\n",
       " 'comp.graphics',\n",
       " 'comp.os.ms-windows.misc',\n",
       " 'comp.sys.ibm.pc.hardware',\n",
       " 'comp.sys.mac.hardware',\n",
       " 'comp.windows.x',\n",
       " 'misc.forsale',\n",
       " 'rec.autos',\n",
       " 'rec.motorcycles',\n",
       " 'rec.sport.baseball',\n",
       " 'rec.sport.hockey',\n",
       " 'sci.crypt',\n",
       " 'sci.electronics',\n",
       " 'sci.med',\n",
       " 'sci.space',\n",
       " 'soc.religion.christian',\n",
       " 'talk.politics.guns',\n",
       " 'talk.politics.mideast',\n",
       " 'talk.politics.misc',\n",
       " 'talk.religion.misc']"
      ]
     },
     "execution_count": 3,
     "metadata": {},
     "output_type": "execute_result"
    }
   ],
   "source": [
    "data_newsgroups = fetch_20newsgroups()\n",
    "data_newsgroups.target_names\n"
   ]
  },
  {
   "cell_type": "code",
   "execution_count": 4,
   "metadata": {
    "collapsed": true,
    "slideshow": {
     "slide_type": "skip"
    }
   },
   "outputs": [],
   "source": [
    "# Settings\n",
    "matplotlib.rcParams['figure.figsize'] = (10.0, 7.0)\n",
    "matplotlib.rcParams.update({'font.size': 48})\n",
    "matplotlib.rcParams.update({'lines.markersize': 14})"
   ]
  },
  {
   "cell_type": "markdown",
   "metadata": {
    "slideshow": {
     "slide_type": "slide"
    }
   },
   "source": [
    "#### Machine learning  (Lecture 1)\n",
    "\n",
    "### Intro, preliminaries, and simple ML approaches\n",
    " * Linear regression\n",
    " * Probability theory\n",
    " * Linear algebra"
   ]
  },
  {
   "cell_type": "markdown",
   "metadata": {
    "slideshow": {
     "slide_type": "slide"
    }
   },
   "source": [
    "# What is machine learning?\n",
    "\n"
   ]
  },
  {
   "cell_type": "markdown",
   "metadata": {
    "slideshow": {
     "slide_type": "fragment"
    }
   },
   "source": [
    "### Computer programming\n",
    "* Inputs -> Program -> Outputs"
   ]
  },
  {
   "cell_type": "markdown",
   "metadata": {
    "slideshow": {
     "slide_type": "fragment"
    }
   },
   "source": [
    "### Supervised Machine learning\n",
    "* (Inputs, Outputs) -> ML -> Program\n",
    "    * Inputs -> Program -> Outputs\n",
    "\n",
    "\n",
    "* Classification\n",
    "* Regression"
   ]
  },
  {
   "cell_type": "markdown",
   "metadata": {
    "slideshow": {
     "slide_type": "fragment"
    }
   },
   "source": [
    "### Unsupervised Machine learning\n",
    "* Inputs -> UML -> Program\n",
    "    * Inputs -> Program -> \"pattern\"/\"summary\"\n",
    "\n",
    "\n",
    "* Clustering\n",
    "* Density estimation"
   ]
  },
  {
   "cell_type": "markdown",
   "metadata": {
    "slideshow": {
     "slide_type": "subslide"
    }
   },
   "source": [
    "## Regression\n",
    "* Predict continuous variable(s)\n",
    "\n",
    "\n",
    "## Classification\n",
    "* Predict a discrete variable(s)"
   ]
  },
  {
   "cell_type": "markdown",
   "metadata": {
    "slideshow": {
     "slide_type": "slide"
    }
   },
   "source": [
    "# An example\n",
    "* Try to predict Diabetes progression from measurements of blood pressure"
   ]
  },
  {
   "cell_type": "markdown",
   "metadata": {
    "slideshow": {
     "slide_type": "fragment"
    }
   },
   "source": [
    "### The process\n",
    "1. Collect data\n",
    "2. Look at it\n",
    "\n",
    "\n",
    "* **\"Data\"**\n",
    "  * The set of inputs and outputs"
   ]
  },
  {
   "cell_type": "code",
   "execution_count": 5,
   "metadata": {
    "scrolled": true,
    "slideshow": {
     "slide_type": "subslide"
    }
   },
   "outputs": [
    {
     "data": {
      "image/png": "[encoded data removed]",
      "text/plain": [
       "<matplotlib.figure.Figure at 0x106cf7550>"
      ]
     },
     "metadata": {},
     "output_type": "display_data"
    }
   ],
   "source": [
    "plt.scatter( X, y )\n",
    "plt.ylabel('Diabetes progression')\n",
    "plt.xlabel('Average blood pressure');"
   ]
  },
  {
   "cell_type": "markdown",
   "metadata": {
    "slideshow": {
     "slide_type": "notes"
    }
   },
   "source": [
    "### Why is blood pressure negative?"
   ]
  },
  {
   "cell_type": "markdown",
   "metadata": {
    "slideshow": {
     "slide_type": "subslide"
    }
   },
   "source": [
    "### The process\n",
    "1. Collect data\n",
    "2. Look at the data\n",
    "3. Choose a model\n",
    "4. Fit a model (Optimize parameters)\n",
    "\n",
    "\n",
    "* **\"Model\"** \n",
    "  * the kind of program your ML system will produce\n",
    "  * one way to tell the ML system properties you believe the data have\n",
    "\n",
    "\n",
    "* **\"Parameters\"**\n",
    "  * \"knobs\" (numbers) that determine how the model behaves\n",
    "  * or things you can change about the model"
   ]
  },
  {
   "cell_type": "markdown",
   "metadata": {
    "slideshow": {
     "slide_type": "subslide"
    }
   },
   "source": [
    "### Let's fit a line\n",
    "* **\"Cost function\"**\n",
    "    * How to measure how good a model & parameters fit data"
   ]
  },
  {
   "cell_type": "markdown",
   "metadata": {
    "slideshow": {
     "slide_type": "fragment"
    }
   },
   "source": [
    "### Sum of squared differences (SSD)\n",
    "* $C(m,\\theta) = \\sum_i ( y_i - m(x_i,\\theta) )^2$\n",
    "\n",
    "\n",
    "Sometimes, the true output is written as $y$ and the estimate as $\\hat{y}$ *\"y-hat\"*\n",
    "* $C = \\sum_i ( y_i - \\hat{y_i} )^2$"
   ]
  },
  {
   "cell_type": "code",
   "execution_count": 6,
   "metadata": {
    "slideshow": {
     "slide_type": "subslide"
    }
   },
   "outputs": [
    {
     "name": "stdout",
     "output_type": "stream",
     "text": [
      "Optimal parameters: \n",
      "slope: 1845.425\n",
      "intercept: 177.089\n"
     ]
    }
   ],
   "source": [
    "# A linear model\n",
    "model = LinearRegression()\n",
    "\n",
    "# Train the model using the training sets\n",
    "# i.e., find parameters that make the model best fit the data\n",
    "model.fit(X, y)\n",
    "\n",
    "# Run the prediction\n",
    "y_pred = model.predict(X)\n",
    "\n",
    "print( 'Optimal parameters: ' )\n",
    "print( 'slope: {:.3f}\\nintercept: {:.3f}'.format(  model.coef_[0], model.intercept_ ))\n"
   ]
  },
  {
   "cell_type": "code",
   "execution_count": 7,
   "metadata": {
    "slideshow": {
     "slide_type": "subslide"
    }
   },
   "outputs": [
    {
     "data": {
      "image/png": "[encoded data removed]",
      "text/plain": [
       "<matplotlib.figure.Figure at 0x115dd8da0>"
      ]
     },
     "metadata": {},
     "output_type": "display_data"
    }
   ],
   "source": [
    "plt.scatter( X, y )\n",
    "plt.plot( X, y_pred, color='black', linewidth=5 )\n",
    "plt.ylabel('Diabetes progression')\n",
    "plt.xlabel('Average blood pressure');"
   ]
  },
  {
   "cell_type": "markdown",
   "metadata": {
    "slideshow": {
     "slide_type": "fragment"
    }
   },
   "source": [
    "Lets go under the hood: **How do we optimize this?**"
   ]
  },
  {
   "cell_type": "markdown",
   "metadata": {
    "slideshow": {
     "slide_type": "slide"
    }
   },
   "source": [
    "# Linear Algebra review"
   ]
  },
  {
   "cell_type": "markdown",
   "metadata": {
    "slideshow": {
     "slide_type": "subslide"
    }
   },
   "source": [
    "## Vectors\n",
    "* A list of numbers\n",
    "* An arrow with its base at the origin\n",
    "\n",
    "\\begin{equation*}\n",
    "\\mathbf{x} = \n",
    "\\begin{bmatrix}\n",
    "x_1 \\\\ x_2 \\\\ x_3\n",
    "\\end{bmatrix}\n",
    "\\end{equation*}\n",
    "\n",
    "* Transpose\n",
    "\\begin{equation*}\n",
    "\\mathbf{x}^T = \n",
    "\\begin{bmatrix}\n",
    "x_1 & x_2 & x_3\n",
    "\\end{bmatrix}\n",
    "\\end{equation*}\n"
   ]
  },
  {
   "cell_type": "markdown",
   "metadata": {
    "slideshow": {
     "slide_type": "subslide"
    }
   },
   "source": [
    "### operations\n",
    "* Multiply with a scalar: $s\\,\\mathbf{v}$\n",
    "    * result is a vector\n",
    "\n",
    "\n",
    "* Add to another vector $\\mathbf{z} = \\mathbf{x} + \\mathbf{y}$ \n",
    "    * result is a vector\n",
    "    \n",
    "    \n",
    "* Multiply with a vector $\\theta = \\mathbf{x}^T \\, \\mathbf{y}$\n",
    "    * result is a scalar\n",
    "    * \"Inner Product\"\n",
    "    * \"Dot Product\"\n",
    "    * \"Projection\""
   ]
  },
  {
   "cell_type": "markdown",
   "metadata": {
    "slideshow": {
     "slide_type": "subslide"
    }
   },
   "source": [
    "### Dot product\n",
    "\n",
    "\\begin{align}\n",
    "\\mathbf{x}^T \\, \\mathbf{y} &=  x_1 \\, y_1 + x_2 \\, y_2 + x_3 \\, y_3 \\\\\n",
    "\\mathbf{x}^T \\, \\mathbf{y} &= \\sum_i x_i \\, y_i\n",
    "\\end{align}\n",
    "\n",
    "\\begin{equation*} \n",
    "\\begin{bmatrix}\n",
    "x_1 & x_2 & x_3\n",
    "\\end{bmatrix}\n",
    "\\begin{bmatrix}\n",
    "y_1 \\\\ y_2 \\\\ y_3\n",
    "\\end{bmatrix}\n",
    "\\end{equation*}\n"
   ]
  },
  {
   "cell_type": "markdown",
   "metadata": {
    "slideshow": {
     "slide_type": "subslide"
    }
   },
   "source": [
    "## Matrices\n",
    "* A 2d array of numbers\n",
    "    * N rows\n",
    "    * M columns\n",
    "    * $A_{N \\times M}$\n",
    "* A linear transformation\n",
    "* A function whose inputs are M-vectors and whose outputs are N-vectors\n",
    "\n",
    "\\begin{equation*}\n",
    "\\mathbf{A} = \n",
    "\\begin{bmatrix}\n",
    "a_{1,1} & a_{1,2} & a_{1,3} \\\\\n",
    "a_{2,1} & a_{2,2} & a_{2,3} \\\\\n",
    "a_{3,1} & a_{3,2} & a_{3,3} \\\\\n",
    "\\end{bmatrix}\n",
    "\\end{equation*}\n",
    "\n",
    "\\begin{equation*}\n",
    "\\mathbf{A} = \n",
    "\\begin{bmatrix}\n",
    "-- & \\mathbf{a_1} & -- \\\\\n",
    "-- & \\mathbf{a_2}  & -- \\\\ \n",
    "-- & \\mathbf{a_3} & -- \\\\\n",
    "\\end{bmatrix}\n",
    "\\end{equation*}\n",
    "\n",
    "### operations\n",
    "* Multiply with a scalar: $s\\,\\mathbf{M}$\n",
    "    * result is a matrix\n",
    "\n",
    "\n",
    "* Multiply with a vector $\\mathbf{z} = \\mathbf{A}\\,\\mathbf{v}$ \n",
    "    * result is a vector\n",
    "\n",
    "\n",
    "* Multiply with a matrix $ \\mathbf{C} = \\mathbf{A} \\, \\mathbf{B}$\n",
    "    * result is a matrix"
   ]
  },
  {
   "cell_type": "markdown",
   "metadata": {
    "slideshow": {
     "slide_type": "subslide"
    }
   },
   "source": [
    "### Matrix - vector multiplication\n",
    "\\begin{equation*}\n",
    "\\mathbf{A} \\, \\mathbf{x} = \\mathbf{y}\n",
    "\\end{equation*}\n",
    "\n",
    "* Don't think of it this way (imo) :\n",
    "\n",
    "\\begin{equation*}\n",
    "y_{i} = \\sum_j a_{i,j} \\, x_{j}\n",
    "\\end{equation*}\n",
    "\n"
   ]
  },
  {
   "cell_type": "markdown",
   "metadata": {
    "slideshow": {
     "slide_type": "subslide"
    }
   },
   "source": [
    "### Matrix - vector multiplication\n",
    "\\begin{equation*}\n",
    "\\mathbf{A} \\, \\mathbf{x} = \\mathbf{y}\n",
    "\\end{equation*}\n",
    "\n",
    "* Think of it this way:\n",
    "\n",
    "\\begin{equation*}\n",
    "y_{i} = \\mathbf{a}_{i} \\, \\mathbf{x}\n",
    "\\end{equation*}\n",
    "\n",
    "\\begin{equation*}\n",
    "\\begin{bmatrix}\n",
    "-- & \\mathbf{a}_{1} \\, \\mathbf{x} & -- \\\\\n",
    "-- &\\mathbf{a}_{2} \\, \\mathbf{x} & -- \\\\\n",
    "-- &\\mathbf{a}_{3} \\, \\mathbf{x} & -- \\\\\n",
    "\\end{bmatrix}\n",
    "\\end{equation*}\n",
    "\n"
   ]
  },
  {
   "cell_type": "markdown",
   "metadata": {
    "slideshow": {
     "slide_type": "subslide"
    }
   },
   "source": [
    "### Matrix - vector multiplication\n",
    "\\begin{equation*}\n",
    "\\mathbf{A} \\, \\mathbf{x} = \\mathbf{y}\n",
    "\\end{equation*}\n",
    "\n",
    "* Or this way: As a linear combination of the columns of $\\mathbf{A}$\n",
    "\n",
    "\\begin{equation*}\n",
    "\\begin{bmatrix}\n",
    " | & | & | \\\\\n",
    " \\mathbf{\\alpha}_1 &  \\mathbf{\\alpha}_2 &  \\mathbf{\\alpha}_3 \\\\\n",
    " | & | & | \\\\\n",
    "\\end{bmatrix}\n",
    "\\mathbf{x} =  x_1 \\, \\mathbf{\\alpha}_1 + x_2 \\, \\mathbf{\\alpha}_2 + x_3 \\, \\mathbf{\\alpha}_3 = \\mathbf{y}\n",
    "\\end{equation*}\n",
    "\n",
    "* Which means that:\n",
    "\n",
    "\\begin{equation*}\n",
    "\\begin{bmatrix}\n",
    " | & | & | \\\\\n",
    " \\mathbf{\\alpha}_1 &  \\mathbf{\\alpha}_2 &  \\mathbf{\\alpha}_3 \\\\\n",
    " | & | & | \\\\\n",
    "\\end{bmatrix}\n",
    "\\mathbf{\\hat{i}} =  \\mathbf{\\alpha}_1\n",
    "\\end{equation*}\n",
    "\n",
    "where $\\mathbf{\\hat{i}}^T = [1 \\,\\, 0 \\,\\, 0 ]$"
   ]
  },
  {
   "cell_type": "code",
   "execution_count": 8,
   "metadata": {
    "slideshow": {
     "slide_type": "slide"
    }
   },
   "outputs": [
    {
     "data": {
      "image/jpeg": "[encoded data removed]",
      "text/html": [
       "\n",
       "        <iframe\n",
       "            width=\"400\"\n",
       "            height=\"300\"\n",
       "            src=\"https://www.youtube.com/embed/kYB8IZa5AuE?start=228\"\n",
       "            frameborder=\"0\"\n",
       "            allowfullscreen\n",
       "        ></iframe>\n",
       "        "
      ],
      "text/plain": [
       "<IPython.lib.display.YouTubeVideo at 0x1142bd160>"
      ]
     },
     "execution_count": 8,
     "metadata": {},
     "output_type": "execute_result"
    }
   ],
   "source": [
    "YouTubeVideo('kYB8IZa5AuE', start=228)"
   ]
  },
  {
   "cell_type": "markdown",
   "metadata": {
    "slideshow": {
     "slide_type": "subslide"
    }
   },
   "source": [
    "### Matrix - vector multiplication\n",
    "* As a linear system of equations\n",
    "\n",
    "\\begin{equation*}\n",
    "\\begin{bmatrix}\n",
    "a_{1,1} & a_{1,2} \\\\\n",
    "a_{2,1} & a_{2,2} \\\\\n",
    "\\end{bmatrix}\n",
    "\\begin{bmatrix}\n",
    "x_1 \\\\ x_2 \\\\\n",
    "\\end{bmatrix} = \n",
    "\\begin{bmatrix}\n",
    "y_1 \\\\ y_2 \\\\\n",
    "\\end{bmatrix}\n",
    "\\end{equation*}\n",
    "\n",
    "\\begin{align}\n",
    "a_{1,1} \\, x_1  + a_{1,2} \\, x_2  &= y_1 \\\\\n",
    "a_{2,1} \\, x_1  + a_{2,2} \\, x_2  &= y_2\n",
    "\\end{align}\n",
    "\n",
    "* When is this solvable?"
   ]
  },
  {
   "cell_type": "markdown",
   "metadata": {
    "slideshow": {
     "slide_type": "fragment"
    }
   },
   "source": [
    "### Matrix inverse\n",
    "\\begin{equation*}\n",
    "\\mathbf{A} \\, \\mathbf{A}^{-1} = \\mathbf{I}\n",
    "\\end{equation*}\n",
    "\n",
    "where\n",
    "\n",
    "\\begin{equation*}\n",
    "\\mathbf{I} = \n",
    "\\begin{bmatrix}\n",
    "1 & 0 \\\\ \n",
    "0 & 1 \\\\ \n",
    "\\end{bmatrix}\n",
    "\\end{equation*}"
   ]
  },
  {
   "cell_type": "markdown",
   "metadata": {
    "slideshow": {
     "slide_type": "subslide"
    }
   },
   "source": [
    "### Matrix inverse to solve a linear system\n",
    "\n",
    "If \n",
    "\\begin{equation*}\n",
    "\\mathbf{A} \\, \\mathbf{x} = \\mathbf{y}\n",
    "\\end{equation*}\n",
    "\n",
    "then\n",
    "\n",
    "\\begin{equation*}\n",
    "\\mathbf{x} = \\mathbf{A}^{-1} \\, \\mathbf{y}\n",
    "\\end{equation*}\n",
    "\n",
    "#### Don't do this in your code - it's slow!"
   ]
  },
  {
   "cell_type": "markdown",
   "metadata": {
    "slideshow": {
     "slide_type": "fragment"
    }
   },
   "source": [
    "* Is this solvable?\n",
    "\\begin{equation*}\n",
    "\\begin{bmatrix}\n",
    "1 & -2 \\\\\n",
    "-3 & 6 \\\\\n",
    "\\end{bmatrix}\n",
    "\\begin{bmatrix}\n",
    "x_1 \\\\ x_2 \\\\\n",
    "\\end{bmatrix} = \n",
    "\\begin{bmatrix}\n",
    "1 \\\\ 2 \\\\\n",
    "\\end{bmatrix}\n",
    "\\end{equation*}"
   ]
  },
  {
   "cell_type": "markdown",
   "metadata": {
    "slideshow": {
     "slide_type": "subslide"
    }
   },
   "source": [
    "### Eigenvalues and eigenvectors\n",
    "$\\mathbf{z}$ is an *eigenvector* of $\\mathbf{A}$ and $\\lambda$ is its *associated eigenvalue* if:\n",
    "\n",
    "\\begin{equation*}\n",
    "\\mathbf{A}\\,\\mathbf{z} = \\lambda \\, \\mathbf{z}\n",
    "\\end{equation*}"
   ]
  },
  {
   "cell_type": "code",
   "execution_count": 9,
   "metadata": {
    "slideshow": {
     "slide_type": "subslide"
    }
   },
   "outputs": [
    {
     "data": {
      "image/jpeg": "[encoded data removed]",
      "text/html": [
       "\n",
       "        <iframe\n",
       "            width=\"400\"\n",
       "            height=\"300\"\n",
       "            src=\"https://www.youtube.com/embed/PFDu9oVAE-g?start=81\"\n",
       "            frameborder=\"0\"\n",
       "            allowfullscreen\n",
       "        ></iframe>\n",
       "        "
      ],
      "text/plain": [
       "<IPython.lib.display.YouTubeVideo at 0x1067d7e10>"
      ]
     },
     "execution_count": 9,
     "metadata": {},
     "output_type": "execute_result"
    }
   ],
   "source": [
    "YouTubeVideo('PFDu9oVAE-g', start=81)"
   ]
  },
  {
   "cell_type": "markdown",
   "metadata": {
    "slideshow": {
     "slide_type": "subslide"
    }
   },
   "source": [
    "### Eigenvalues and eigenvectors\n",
    "$\\mathbf{z}$ is an *eigenvector* of $\\mathbf{A}$ and $\\lambda$ is its *associated eigenvalue* if:\n",
    "\n",
    "\\begin{equation*}\n",
    "\\mathbf{A}\\,\\mathbf{z} = \\lambda \\, \\mathbf{z}\n",
    "\\end{equation*}\n",
    "\n",
    "\\begin{equation*}\n",
    "(\\mathbf{A} - \\lambda\\mathbf{I})\\,\\mathbf{z} = \\mathbf{0}\n",
    "\\end{equation*}\n",
    "\n",
    "* Does every matrix have eigenvectors?\n",
    "\n",
    "\\begin{equation*}\n",
    "\\begin{bmatrix}\n",
    "0 & -1 \\\\\n",
    "1 & 0 \\\\\n",
    "\\end{bmatrix}\n",
    "\\end{equation*}\n",
    "\n",
    "* What are it's eigenvalues?\n",
    "    * Try it, solve:\n",
    "    \n",
    "\\begin{align}\n",
    "\\lambda \\, x - y &= 0 \\\\\n",
    "x + \\lambda \\, y &= 0\n",
    "\\end{align}"
   ]
  },
  {
   "cell_type": "markdown",
   "metadata": {
    "slideshow": {
     "slide_type": "subslide"
    }
   },
   "source": [
    "#### Eigenvalue / eigenvector decomposition\n",
    "* Not always possible, but when $\\mathbf{A}$ is *\"diagonalizable\"*:\n",
    "\n",
    "\\begin{equation*}\n",
    "\\mathbf{A} = \\mathbf{Q} \\, \\mathbf{\\Lambda} \\, \\mathbf{Q}^{-1}\n",
    "\\end{equation*}\n",
    "\n",
    "where if $\\mathbf{z}_i$ are eigenvectors, and $\\lambda_i$ are eigenvalues, then:\n",
    "\\begin{equation*}\n",
    "\\mathbf{Q} = \n",
    "\\begin{bmatrix}\n",
    " | & | \\\\\n",
    " \\mathbf{z}_1 &  \\mathbf{z}_2 \\\\\n",
    " | & | \\\\\n",
    "\\end{bmatrix}\n",
    "\\end{equation*}\n",
    "\n",
    "\\begin{equation*}\n",
    "\\mathbf{\\Lambda} = \n",
    "\\begin{bmatrix}\n",
    " \\lambda_1 & 0 \\\\\n",
    " 0 & \\lambda_2 \\\\\n",
    "\\end{bmatrix}\n",
    "\\end{equation*}"
   ]
  },
  {
   "cell_type": "markdown",
   "metadata": {
    "slideshow": {
     "slide_type": "subslide"
    }
   },
   "source": [
    "### Non-square matrices\n",
    "* $\\mathbf{A}_{4 \\times 2}$\n",
    "\\begin{equation*}\n",
    "\\mathbf{A} = \n",
    "\\begin{bmatrix}\n",
    "a_{1,1} & a_{1,2}  \\\\\n",
    "a_{2,1} & a_{2,2}  \\\\\n",
    "a_{3,1} & a_{3,2}  \\\\\n",
    "a_{4,1} & a_{4,2}  \\\\\n",
    "\\end{bmatrix}\n",
    "\\end{equation*}\n",
    "\n",
    "* What size are its \"inputs\"?\n",
    "* What size are its \"outputs\"?\n",
    "\n",
    "### \"Solving\" this linear system?\n",
    "\\begin{align}\n",
    "1 \\, m  &= 2 \\\\\n",
    "1 \\, m  &= 3 \\\\\n",
    "2 \\, m  &= 4 \\\\\n",
    "2 \\, m  &= 5 \\\\\n",
    "\\end{align}"
   ]
  },
  {
   "cell_type": "markdown",
   "metadata": {
    "slideshow": {
     "slide_type": "subslide"
    }
   },
   "source": [
    "## Minimize the sum of errors (back to SSD)\n",
    "\n",
    "* $C= \\sum_i ( y_i - a_i \\, m )^2$"
   ]
  },
  {
   "cell_type": "markdown",
   "metadata": {
    "slideshow": {
     "slide_type": "fragment"
    }
   },
   "source": [
    "### Solvable with a special matrix\n",
    "\\begin{equation*}\n",
    "\\mathbf{A}_{4 \\times 2} \\, \\mathbf{x}_{2 \\times 1} = \\mathbf{y}_{4 \\times 1}\n",
    "\\end{equation*}\n",
    "\n",
    "\\begin{equation*}\n",
    "\\mathbf{x}_{2 \\times 1} = \\mathbf{A}^{\\dagger}_{2 \\times 4} \\,  \\mathbf{y}_{4 \\times 1}\n",
    "\\end{equation*}\n"
   ]
  },
  {
   "cell_type": "markdown",
   "metadata": {
    "slideshow": {
     "slide_type": "skip"
    }
   },
   "source": [
    "\\begin{align}\n",
    "a_{1,1} \\, x_1  + a_{1,2} \\, x_2  &= y_1 \\\\\n",
    "a_{2,1} \\, x_1  + a_{2,2} \\, x_2  &= y_2 \\\\\n",
    "a_{3,1} \\, x_1  + a_{3,2} \\, x_2  &= y_3 \\\\\n",
    "a_{4,1} \\, x_1  + a_{4,2} \\, x_2  &= y_4 \\\\\n",
    "\\end{align}\n",
    "\n",
    "\\begin{equation*}\n",
    "\\mathbf{A} = \n",
    "\\begin{bmatrix}\n",
    "a_{1,1} & a_{1,2}  \\\\\n",
    "a_{2,1} & a_{2,2}  \\\\\n",
    "a_{3,1} & a_{3,2}  \\\\\n",
    "a_{4,1} & a_{4,2}  \\\\\n",
    "\\end{bmatrix}\n",
    "\\end{equation*}"
   ]
  },
  {
   "cell_type": "markdown",
   "metadata": {
    "slideshow": {
     "slide_type": "subslide"
    }
   },
   "source": [
    "### Singular value decomposition\n",
    "\n",
    "\\begin{equation*}\n",
    "\\mathbf{A} = \\mathbf{U} \\, \\mathbf{\\Sigma} \\, \\mathbf{V}^{T}\n",
    "\\end{equation*}\n",
    "\n",
    "\\begin{equation*}\n",
    "\\mathbf{A}^{\\dagger} = \\mathbf{V} \\, \\mathbf{\\Sigma}^{\\dagger} \\, \\mathbf{U}^{T}\n",
    "\\end{equation*}\n",
    "\n",
    "\\begin{equation*}\n",
    "\\mathbf{U} = \n",
    "\\begin{bmatrix}\n",
    " | & | & | &| \\\\\n",
    " \\mathbf{u}_1 &  \\mathbf{u}_2 &  \\mathbf{u}_3 &  \\mathbf{u}_4 \\\\\n",
    " | & | & | &| \\\\\n",
    "\\end{bmatrix}\n",
    "\\end{equation*}\n",
    "\n",
    "\\begin{equation*}\n",
    "\\mathbf{\\Sigma} = \n",
    "\\begin{bmatrix}\n",
    "\\sigma_1 & 0 & 0 & 0\\\\\n",
    "0 & \\sigma_2 & 0 & 0 \\\\\n",
    "0 & 0 & 0 & 0 \\\\\n",
    "0 & 0 & 0 & 0 \\\\\n",
    "\\end{bmatrix}\n",
    "\\end{equation*}\n",
    "\n",
    "\\begin{equation*}\n",
    "\\mathbf{V} = \n",
    "\\begin{bmatrix}\n",
    " | & | \\\\\n",
    " \\mathbf{v}_1 &  \\mathbf{v}_2 \\\\\n",
    " | & | \\\\\n",
    "\\end{bmatrix}\n",
    "\\end{equation*}\n",
    "\n"
   ]
  },
  {
   "cell_type": "markdown",
   "metadata": {
    "slideshow": {
     "slide_type": "fragment"
    }
   },
   "source": [
    "\\begin{equation*}\n",
    "\\mathbf{\\Sigma}^{\\dagger} = \n",
    "\\begin{bmatrix}\n",
    "\\frac{1}{\\sigma_1} & 0 & 0 & 0\\\\\n",
    "0 & \\frac{1}{\\sigma_2} & 0 & 0 \\\\\n",
    "0 & 0 & 0 & 0 \\\\\n",
    "0 & 0 & 0 & 0 \\\\\n",
    "\\end{bmatrix}\n",
    "\\end{equation*}"
   ]
  },
  {
   "cell_type": "markdown",
   "metadata": {
    "slideshow": {
     "slide_type": "subslide"
    }
   },
   "source": [
    "![Image](512px-Singular-Value-Decomposition.svg.png)"
   ]
  },
  {
   "cell_type": "markdown",
   "metadata": {
    "slideshow": {
     "slide_type": "slide"
    }
   },
   "source": [
    "# Back to linear regression\n",
    "\n",
    "* Let's set up the problem\n",
    "* We have:\n",
    "\n",
    "\\begin{align}\n",
    "x_1 \\, m  + b  &= y_1 \\\\\n",
    "x_2 \\, m  + b  &= y_2 \\\\\n",
    "x_3 \\, m  + b  &= y_3 \\\\\n",
    "x_4 \\, m  + b  &= y_4 \\\\\n",
    "\\end{align}\n",
    "\n",
    "* and want to find the minimum-least-squares solution\n"
   ]
  },
  {
   "cell_type": "markdown",
   "metadata": {
    "slideshow": {
     "slide_type": "fragment"
    }
   },
   "source": [
    "\\begin{equation*}\n",
    "\\mathbf{X} \\, \\mathbf{\\theta} = \\mathbf{y}\n",
    "\\end{equation*}\n",
    "\n",
    "\\begin{equation*}\n",
    "\\begin{bmatrix}\n",
    "x_1 & 1 \\\\\n",
    "x_2 & 1 \\\\\n",
    "x_3 & 1 \\\\\n",
    "x_4 & 1 \\\\\n",
    "\\end{bmatrix}\n",
    "\\begin{bmatrix}\n",
    "m \\\\ b\n",
    "\\end{bmatrix} = \n",
    "\\begin{bmatrix}\n",
    "y_1 \\\\ y_2 \\\\ y_3 \\\\ y_4 \\\\\n",
    "\\end{bmatrix}\n",
    "\\end{equation*}"
   ]
  },
  {
   "cell_type": "code",
   "execution_count": 10,
   "metadata": {
    "slideshow": {
     "slide_type": "subslide"
    }
   },
   "outputs": [
    {
     "name": "stdout",
     "output_type": "stream",
     "text": [
      "Optimal parameters: \n",
      "slope: 1845.425\n",
      "intercept: 177.089\n"
     ]
    }
   ],
   "source": [
    "X1 = np.concatenate( (X, np.ones( (len(X),1) )), axis=1 ) # Check that this is correct in lab\n",
    "theta,resid,rank,s = np.linalg.lstsq( X1, y )\n",
    "\n",
    "# print( 'theta :', theta )\n",
    "y_linsolv_pred = np.matmul( X1, theta ); # Compare this to the previous output\n",
    "\n",
    "print( 'Optimal parameters: ' )\n",
    "print( 'slope: {:.3f}\\nintercept: {:.3f}'.format(  theta[0], theta[1] ))\n"
   ]
  },
  {
   "cell_type": "code",
   "execution_count": 11,
   "metadata": {
    "slideshow": {
     "slide_type": "subslide"
    }
   },
   "outputs": [
    {
     "data": {
      "image/png": "[encoded data removed]",
      "text/plain": [
       "<matplotlib.figure.Figure at 0x114297be0>"
      ]
     },
     "metadata": {},
     "output_type": "display_data"
    }
   ],
   "source": [
    "plt.scatter( X, y )\n",
    "plt.plot( X, y_linsolv_pred, color='black', linewidth=5 )\n",
    "plt.title(\"Linear regression (linsolv optimization)\")\n",
    "plt.ylabel('Diabetes progression')\n",
    "plt.xlabel('Average blood pressure');"
   ]
  },
  {
   "cell_type": "markdown",
   "metadata": {
    "slideshow": {
     "slide_type": "subslide"
    }
   },
   "source": [
    "### Exercises \n",
    "1. Run this notebook\n",
    "2. Read [this website about the diabetes dataset](http://scikit-learn.org/stable/modules/generated/sklearn.datasets.load_diabetes.html)\n",
    "3. and [this website sklearn's Linear Regression](http://scikit-learn.org/stable/modules/generated/sklearn.linear_model.LinearRegression.html#sklearn.linear_model.LinearRegression)\n",
    "4. Add another feature from the dataset, and solve using sklearn's LinearRegression\n",
    "5. Set up the matrix equation for linear regression with two features\n",
    "6. Solve the linear system and make sure the results are the same as those you got with sklearn"
   ]
  },
  {
   "cell_type": "markdown",
   "metadata": {
    "slideshow": {
     "slide_type": "slide"
    }
   },
   "source": [
    "# Probability review\n",
    "\n",
    "## Axioms (rules)\n",
    "* Random variable take values in a sample space $X \\in \\Omega$\n",
    "* Probability of an event $P(X=x) \\ge 0$\n",
    "* $\\sum_{x\\in\\Omega} P(x) = 1$\n",
    "* if $x_1$, $x_2$ disjoint $P( x_1 \\, \\mathrm{or} \\, x_2) = P(x_1) + P(x_2)$ \n",
    "\n",
    "## Probability distribution function (PDF)\n",
    "* $\\int_a^b p(x)$ : probability that x takes value between $a$ and $b$"
   ]
  },
  {
   "cell_type": "code",
   "execution_count": 13,
   "metadata": {},
   "outputs": [
    {
     "data": {
      "image/png": "[encoded data removed]",
      "text/plain": [
       "<matplotlib.figure.Figure at 0x11422e630>"
      ]
     },
     "metadata": {},
     "output_type": "display_data"
    }
   ],
   "source": [
    "from scipy.stats import norm\n",
    "\n",
    "gausspdf = norm(0, 1)\n",
    "x = np.linspace(-10, 10, 1000)\n",
    "\n",
    "plt.plot(x, gausspdf.pdf(x) , c='black',\n",
    "    label=r'$\\mu=%i,\\ \\sigma=%.1f$' % (0, 1));\n",
    "plt.xlabel(\"x\");\n",
    "plt.ylabel(\"p(x)\");\n",
    "plt.title('Gaussian pdf');"
   ]
  },
  {
   "cell_type": "markdown",
   "metadata": {
    "slideshow": {
     "slide_type": "subslide"
    }
   },
   "source": [
    "### Gaussian (\"Normal\") pdf\n",
    "\\begin{equation*}\n",
    "\\mathcal{N}(x \\, ; \\mu, \\, \\sigma) = \\frac{1}{ \\sqrt {2\\,\\pi\\,\\sigma^2}}\\exp{ - \\frac{( x - \\mu )^2}{2 \\sigma^2}}\n",
    "\\end{equation*}"
   ]
  },
  {
   "cell_type": "code",
   "execution_count": 15,
   "metadata": {
    "slideshow": {
     "slide_type": "subslide"
    }
   },
   "outputs": [
    {
     "data": {
      "image/png": "[encoded data removed]",
      "text/plain": [
       "<matplotlib.figure.Figure at 0x113f715c0>"
      ]
     },
     "metadata": {},
     "output_type": "display_data"
    }
   ],
   "source": [
    "from scipy.stats import norm\n",
    "\n",
    "dist1 = norm(-4, 1)\n",
    "dist2 = norm(2, 3)\n",
    "x = np.linspace(-10, 10, 1000)\n",
    "\n",
    "plt.plot(x, dist1.pdf(x) + dist2.pdf(x), c='black');\n",
    "plt.xlabel(\"x\");\n",
    "plt.ylabel(\"p(x)\");\n",
    "plt.title(\"Mixture of two Gaussians\");"
   ]
  },
  {
   "cell_type": "markdown",
   "metadata": {
    "slideshow": {
     "slide_type": "subslide"
    }
   },
   "source": [
    "## Expectation\n",
    "\"Mean\", \"Average\"\n",
    "* $E(X) = \\sum_{\\Omega} x \\, p(x)$\n",
    "* $E(f(X)) = \\sum_{\\Omega} f(x) \\, p(x)$"
   ]
  },
  {
   "cell_type": "markdown",
   "metadata": {
    "slideshow": {
     "slide_type": "subslide"
    }
   },
   "source": [
    "## Joint probability distribution\n",
    "* $p(X=x,Y=y) = p(x,y)$"
   ]
  },
  {
   "cell_type": "markdown",
   "metadata": {
    "slideshow": {
     "slide_type": "subslide"
    }
   },
   "source": [
    "## Marginal probability distribution\n",
    "* $p(y) = \\sum_x p(x,y)$"
   ]
  },
  {
   "cell_type": "code",
   "execution_count": 16,
   "metadata": {
    "slideshow": {
     "slide_type": "subslide"
    }
   },
   "outputs": [
    {
     "data": {
      "image/png": "[encoded data removed]",
      "text/plain": [
       "<matplotlib.figure.Figure at 0x114519c50>"
      ]
     },
     "metadata": {},
     "output_type": "display_data"
    }
   ],
   "source": [
    "from scipy.stats import multivariate_normal\n",
    "x, y = np.mgrid[-3:3:0.05, -3:3:0.05]\n",
    "pos = np.dstack((x, y))\n",
    "rv = multivariate_normal([0.5, -1.7], [[2.0, 0.3], [0.3, 0.5]])\n",
    "rv2 = multivariate_normal([-0.9, 1.2], [[1.5, -1.0],[-0.6,1.4]])\n",
    "jointPdf = rv.pdf(pos) + rv2.pdf(pos)\n",
    "\n",
    "plt.contourf(x, y, jointPdf, 15)\n",
    "plt.xlabel('x')\n",
    "plt.ylabel('y')\n",
    "plt.colorbar();"
   ]
  },
  {
   "cell_type": "markdown",
   "metadata": {
    "slideshow": {
     "slide_type": "subslide"
    }
   },
   "source": [
    "## Conditional distribution\n",
    "* $p(y \\,| \\, x)$ : \"probability of y given x\""
   ]
  },
  {
   "cell_type": "code",
   "execution_count": 17,
   "metadata": {
    "slideshow": {
     "slide_type": "fragment"
    }
   },
   "outputs": [
    {
     "name": "stdout",
     "output_type": "stream",
     "text": [
      "xvalue 2.0\n"
     ]
    },
    {
     "data": {
      "image/png": "[encoded data removed]",
      "text/plain": [
       "<matplotlib.figure.Figure at 0x1144489e8>"
      ]
     },
     "metadata": {},
     "output_type": "display_data"
    }
   ],
   "source": [
    "i=100\n",
    "xvalue = x[i,0]\n",
    "print('xvalue {}'.format(xvalue))\n",
    "\n",
    "plt.plot(y[i,:], jointPdf[i,:], c='black' );\n",
    "plt.xlabel(\"y\");\n",
    "plt.ylabel('p(y | x = {})'.format(xvalue));"
   ]
  },
  {
   "cell_type": "code",
   "execution_count": 18,
   "metadata": {
    "slideshow": {
     "slide_type": "subslide"
    }
   },
   "outputs": [
    {
     "name": "stdout",
     "output_type": "stream",
     "text": [
      "xvalue -1.0\n"
     ]
    },
    {
     "data": {
      "image/png": "[encoded data removed]",
      "text/plain": [
       "<matplotlib.figure.Figure at 0x1145dacc0>"
      ]
     },
     "metadata": {},
     "output_type": "display_data"
    }
   ],
   "source": [
    "i = 40\n",
    "xvalue = x[i,0]\n",
    "print('xvalue {}'.format(xvalue))\n",
    "\n",
    "plt.plot(y[i,:], jointPdf[i,:], c='black' );\n",
    "plt.xlabel(\"y\");\n",
    "plt.ylabel('p(y | x = {})'.format(xvalue));"
   ]
  },
  {
   "cell_type": "markdown",
   "metadata": {
    "slideshow": {
     "slide_type": "slide"
    }
   },
   "source": [
    "# Another view of linear regression"
   ]
  },
  {
   "cell_type": "markdown",
   "metadata": {
    "slideshow": {
     "slide_type": "fragment"
    }
   },
   "source": [
    "\\begin{equation*}\n",
    "p( y \\, ; \\mu, \\, \\sigma ) = \\mathcal{N}( \\, y; \\, \\mu = (mx + b), \\, \\sigma )\n",
    "\\end{equation*}"
   ]
  },
  {
   "cell_type": "markdown",
   "metadata": {
    "slideshow": {
     "slide_type": "slide"
    }
   },
   "source": [
    "## Bayes rule\n",
    "\n",
    "\\begin{equation*}\n",
    "p(y\\,|\\,x) = \\frac{p(x\\,|\\,y)p(y)}{p(x)}\n",
    "\\end{equation*}\n",
    "\n",
    "* $p(y\\,|\\,x)$ : \"posterior probability\"\n",
    "* $p(x\\,|\\,y)$ : \"likelihood\"\n",
    "* $p(y)$ : \"prior probability\"\n"
   ]
  },
  {
   "cell_type": "markdown",
   "metadata": {
    "slideshow": {
     "slide_type": "subslide"
    }
   },
   "source": [
    "## Independence\n",
    "* $X$,$Y$ independent $\\iff p(x,y) = p(x)p(y)$"
   ]
  },
  {
   "cell_type": "markdown",
   "metadata": {
    "slideshow": {
     "slide_type": "fragment"
    }
   },
   "source": [
    "### Cost functions for classification?"
   ]
  },
  {
   "cell_type": "markdown",
   "metadata": {
    "slideshow": {
     "slide_type": "fragment"
    }
   },
   "source": [
    "* Number of errors\n",
    "* (probability of error)"
   ]
  },
  {
   "cell_type": "markdown",
   "metadata": {
    "slideshow": {
     "slide_type": "subslide"
    }
   },
   "source": [
    "## Bayes optimal classifier\n",
    "\n",
    "Back to Bayes rule\n",
    "\n",
    "\\begin{equation*}\n",
    "p(y\\,|\\,x) = \\frac{p(x\\,|\\,y)p(y)}{p(x)}\n",
    "\\end{equation*}\n",
    "\n",
    "\n",
    "How to use this as a classifier?"
   ]
  },
  {
   "cell_type": "markdown",
   "metadata": {
    "slideshow": {
     "slide_type": "fragment"
    }
   },
   "source": [
    "* $y$ the class to predict\n",
    "* $x$ the observations and features\n",
    "* $p(y)$ prior probability of the class\n",
    "* $p(x|y)$ likelihood\n",
    "* $p(x)$ ..."
   ]
  },
  {
   "cell_type": "markdown",
   "metadata": {
    "slideshow": {
     "slide_type": "subslide"
    }
   },
   "source": [
    "### A more realistic case\n",
    "\n",
    "$p(y|x_1,x_2,\\ldots,x_N) = \\frac{p(x_1,x_2,\\ldots,x_N|y)p(y)}{p(x_1,x_2,\\ldots,x_N)}$"
   ]
  },
  {
   "cell_type": "markdown",
   "metadata": {
    "slideshow": {
     "slide_type": "subslide"
    }
   },
   "source": [
    "## Naive Bayes classifier\n",
    "\n",
    "Assume independence\n",
    "\n",
    "$p(y|x_1,x_2,\\ldots,x_N) = \\frac{p(x_1|y)p(x_2|y)\\ldots p(x_N|y)p(y)}{p(x_1)p(x_2)\\ldots p(x_N)}$\n"
   ]
  },
  {
   "cell_type": "code",
   "execution_count": null,
   "metadata": {
    "collapsed": true,
    "slideshow": {
     "slide_type": "slide"
    }
   },
   "outputs": [],
   "source": [
    "categories = [ 'rec.sport.baseball', 'rec.sport.hockey' ]\n",
    "train_data_news = fetch_20newsgroups(subset='train', categories=categories)\n",
    "test_data_news = fetch_20newsgroups(subset='test', categories=categories)"
   ]
  },
  {
   "cell_type": "code",
   "execution_count": null,
   "metadata": {
    "collapsed": true,
    "slideshow": {
     "slide_type": "subslide"
    }
   },
   "outputs": [],
   "source": [
    "idx = 2\n",
    "print( train_data_news.data[idx])\n",
    "print( 'belongs to class : {}'.format( categories[train_data_news.target[idx]] ))"
   ]
  },
  {
   "cell_type": "code",
   "execution_count": null,
   "metadata": {
    "collapsed": true
   },
   "outputs": [],
   "source": [
    "c = 2 # hockey\n",
    "print( train_data_news.data[ np.where(train_data_news.target == c)[0][0]])"
   ]
  },
  {
   "cell_type": "code",
   "execution_count": null,
   "metadata": {
    "collapsed": true,
    "slideshow": {
     "slide_type": "slide"
    }
   },
   "outputs": [],
   "source": [
    "from sklearn.feature_extraction.text import TfidfVectorizer\n",
    "from sklearn.naive_bayes import MultinomialNB\n",
    "from sklearn.pipeline import make_pipeline\n",
    "from sklearn.metrics import confusion_matrix\n",
    "\n",
    "# Build features\n",
    "# Multinomial Naive Bayes classifier\n",
    "model = make_pipeline(TfidfVectorizer(), MultinomialNB())\n",
    "\n",
    "# Fit on the training data\n",
    "model.fit(train_data_news.data, train_data_news.target)\n",
    "\n",
    "# Evaluate on the test data\n",
    "labels = model.predict(test_data_news.data)\n",
    "\n",
    "\n",
    "confusion_mtx = confusion_matrix(test_data_news.target, labels)\n",
    "sns.heatmap(confusion_mtx.T, square=True, annot=True, fmt='d', cbar=False,\n",
    "            xticklabels=train_data_news.target_names,\n",
    "            yticklabels=train_data_news.target_names)\n",
    "plt.xlabel('true label')\n",
    "plt.ylabel('predicted label');\n"
   ]
  },
  {
   "cell_type": "markdown",
   "metadata": {
    "slideshow": {
     "slide_type": "subslide"
    }
   },
   "source": [
    "Lets see what it looks like when the classifier makes a mistake."
   ]
  },
  {
   "cell_type": "code",
   "execution_count": null,
   "metadata": {
    "collapsed": true,
    "slideshow": {
     "slide_type": "fragment"
    }
   },
   "outputs": [],
   "source": [
    "# about hockey\n",
    "hockey = (test_data_news.target == 2) \n",
    "\n",
    "# but predicted to be about baseball\n",
    "pred_baseball = (labels == 1)\n",
    "err_i = np.where( hockey & pred_baseball )[0]\n",
    "\n",
    "# \n",
    "print( test_data_news.data[err_i[2]] )"
   ]
  },
  {
   "cell_type": "markdown",
   "metadata": {
    "slideshow": {
     "slide_type": "slide"
    }
   },
   "source": [
    "# Preview of next week\n",
    "Using today's linear regression example"
   ]
  },
  {
   "cell_type": "code",
   "execution_count": null,
   "metadata": {
    "collapsed": true,
    "slideshow": {
     "slide_type": "subslide"
    }
   },
   "outputs": [],
   "source": [
    "from sklearn.preprocessing import PolynomialFeatures\n",
    "from sklearn.pipeline import Pipeline\n",
    "\n",
    "poly_model = Pipeline(\n",
    "    [('poly', PolynomialFeatures(degree=3)), \n",
    "     ('linear', LinearRegression())])\n",
    "\n",
    "# Fit the model and \n",
    "poly_model.fit( X, y )\n",
    "\n",
    "print( 'Optimal parameters: ')\n",
    "print( ' '.join('{}'.format(c) for c in poly_model.named_steps['linear'].coef_))\n",
    "# print( 'R^2 Score: {0:.3f}'.format( poly_model.score(X,y)))\n",
    "\n",
    "# Run the model for evenly spaced values of x for plotting\n",
    "Xlin = np.reshape(np.linspace(-0.08,0.04),(-1,1))\n",
    "y_poly_pred = poly_model.predict( Xlin )"
   ]
  },
  {
   "cell_type": "code",
   "execution_count": null,
   "metadata": {
    "collapsed": true,
    "slideshow": {
     "slide_type": "subslide"
    }
   },
   "outputs": [],
   "source": [
    "# plot\n",
    "plt.scatter( X, y )\n",
    "plt.plot( Xlin, y_poly_pred, color='black', linewidth=5 )\n",
    "plt.ylabel('Diabetes progression')\n",
    "plt.xlabel('Average blood pressure');"
   ]
  },
  {
   "cell_type": "markdown",
   "metadata": {
    "slideshow": {
     "slide_type": "subslide"
    }
   },
   "source": [
    "## Test\n",
    "\n",
    "Next, we collected more data from the same study.  Let's see how the model we trained performs on the new data."
   ]
  },
  {
   "cell_type": "code",
   "execution_count": null,
   "metadata": {
    "collapsed": true,
    "slideshow": {
     "slide_type": "subslide"
    }
   },
   "outputs": [],
   "source": [
    "# Evaluate over equally spaced x\n",
    "Xlin2 = np.reshape(np.linspace(-0.08,0.15),(-1,1))\n",
    "y_poly_pred_test = poly_model.predict( Xlin2 )\n",
    "\n",
    "print( 'R^2 Score: {0:.3f}'.format( poly_model.score(Xtest,ytest)))\n",
    "\n",
    "plt.scatter( Xtest, ytest )\n",
    "plt.plot( Xlin2, y_poly_pred_test, color='black', linewidth=5 )\n",
    "plt.ylabel('Diabetes progression')\n",
    "plt.xlabel('Average blood pressure');"
   ]
  },
  {
   "cell_type": "code",
   "execution_count": null,
   "metadata": {
    "collapsed": true,
    "slideshow": {
     "slide_type": "subslide"
    }
   },
   "outputs": [],
   "source": [
    "print( 'R^2 Score: {0:.3f}'.format( model.score( Xtest, ytest )))\n",
    "\n",
    "Xlin2 = np.reshape(np.linspace(-0.08,0.15),(-1,1))\n",
    "y_pred_test = model.predict( Xlin2 )\n",
    "\n",
    "plt.scatter( Xtest, ytest )\n",
    "plt.plot( Xlin2, y_pred_test, color='black', linewidth=5 )\n",
    "plt.ylabel('Diabetes progression')\n",
    "plt.xlabel('Average blood pressure');"
   ]
  },
  {
   "cell_type": "markdown",
   "metadata": {
    "slideshow": {
     "slide_type": "subslide"
    }
   },
   "source": [
    "* **Hyper parameter**\n",
    "    * Something you can change about your model / optimization that isn't optimized for\n",
    "    * Often this is optimized for in an \"outer loop\" using cross validation \n",
    "\n",
    "\n",
    "* **Cross validation**\n",
    "    * The process of testing performance on data independent of those that were used for training"
   ]
  },
  {
   "cell_type": "code",
   "execution_count": null,
   "metadata": {
    "collapsed": true,
    "slideshow": {
     "slide_type": "subslide"
    }
   },
   "outputs": [],
   "source": [
    "# Set up training, validation, test splits\n",
    "\n",
    "diabetes_data= datasets.load_diabetes()\n",
    "\n",
    "N = len(diabetes_data.target)\n",
    "\n",
    "# Training data (200 samples)\n",
    "i_train = np.arange(0,200)\n",
    "X_train = diabetes_data.data[i_train,np.newaxis,2]\n",
    "y_train = diabetes_data.target[i_train]\n",
    "\n",
    "# Validation data (100 samples)\n",
    "i_validate = np.arange(201,300)\n",
    "X_validate = diabetes_data.data[i_validate,np.newaxis,2]\n",
    "y_validate = diabetes_data.target[i_validate]\n",
    "\n",
    "# Test data (100 samples)\n",
    "i_test = np.arange(301,400)\n",
    "X_test = diabetes_data.data[i_test,np.newaxis,2]\n",
    "y_test = diabetes_data.target[i_test]\n"
   ]
  },
  {
   "cell_type": "code",
   "execution_count": null,
   "metadata": {
    "collapsed": true,
    "slideshow": {
     "slide_type": "subslide"
    }
   },
   "outputs": [],
   "source": [
    "pmList = []\n",
    "for deg in range(1,5):\n",
    "    pm = Pipeline(\n",
    "        [('poly', PolynomialFeatures(degree=deg)), \n",
    "        ('linear', LinearRegression())])\n",
    "\n",
    "    # Fit the model on the training set\n",
    "    pm.fit( X_train, y_train )\n",
    "\n",
    "    # Evaluate on the validation set\n",
    "    print( 'degree {0:d} : score: {1:.3f}'.format( deg, pm.score(X_validate,y_validate)))\n",
    "    pmList += [pm]"
   ]
  },
  {
   "cell_type": "code",
   "execution_count": null,
   "metadata": {
    "collapsed": true,
    "slideshow": {
     "slide_type": "subslide"
    }
   },
   "outputs": [],
   "source": [
    "for pm in pmList:\n",
    "    print( 'Optimal parameters ')\n",
    "    print( ' '.join('{}'.format(k) for k in pm.named_steps['linear'].coef_ ))\n",
    "    print( '' )\n",
    "    "
   ]
  }
 ],
 "metadata": {
  "celltoolbar": "Slideshow",
  "kernelspec": {
   "display_name": "Python [default]",
   "language": "python",
   "name": "python3"
  },
  "language_info": {
   "codemirror_mode": {
    "name": "ipython",
    "version": 3
   },
   "file_extension": ".py",
   "mimetype": "text/x-python",
   "name": "python",
   "nbconvert_exporter": "python",
   "pygments_lexer": "ipython3",
   "version": "3.6.2"
  }
 },
 "nbformat": 4,
 "nbformat_minor": 2
}
